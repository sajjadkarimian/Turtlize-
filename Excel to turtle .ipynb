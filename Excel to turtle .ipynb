{
 "cells": [
  {
   "cell_type": "markdown",
   "id": "1b74b703",
   "metadata": {},
   "source": [
    "# A simple code to convert excel to turtle "
   ]
  },
  {
   "cell_type": "markdown",
   "id": "90d33d7c",
   "metadata": {},
   "source": [
    "### First download and use libaries:"
   ]
  },
  {
   "cell_type": "markdown",
   "id": "0208128f",
   "metadata": {},
   "source": [
    "Install the following libraries rdflib and pandas if you dont have it"
   ]
  },
  {
   "cell_type": "code",
   "execution_count": 17,
   "id": "b2de5782",
   "metadata": {
    "scrolled": true
   },
   "outputs": [
    {
     "name": "stdout",
     "output_type": "stream",
     "text": [
      "Requirement already satisfied: rdflib in c:\\users\\sajja\\anaconda3\\lib\\site-packages (7.1.4)\n",
      "Requirement already satisfied: pyparsing<4,>=2.1.0 in c:\\users\\sajja\\anaconda3\\lib\\site-packages (from rdflib) (3.0.9)\n",
      "Requirement already satisfied: openpyxl in c:\\users\\sajja\\anaconda3\\lib\\site-packages (3.0.10)\n",
      "Requirement already satisfied: et_xmlfile in c:\\users\\sajja\\anaconda3\\lib\\site-packages (from openpyxl) (1.1.0)\n"
     ]
    }
   ],
   "source": [
    "!pip install rdflib\n",
    "!pip install pandas"
   ]
  },
  {
   "cell_type": "markdown",
   "id": "92341a89",
   "metadata": {},
   "source": [
    "Use the Libraries "
   ]
  },
  {
   "cell_type": "code",
   "execution_count": 1,
   "id": "01772182",
   "metadata": {},
   "outputs": [],
   "source": [
    "import pandas as pd\n",
    "from rdflib import Graph, Namespace, RDF, RDFS, OWL, XSD, URIRef, Literal"
   ]
  },
  {
   "cell_type": "markdown",
   "id": "dcc9d353",
   "metadata": {},
   "source": [
    "### Second: Create Turtle file "
   ]
  },
  {
   "cell_type": "markdown",
   "id": "fa59c37f",
   "metadata": {},
   "source": [
    "Get the excel file and convert it to a turtle file "
   ]
  },
  {
   "cell_type": "code",
   "execution_count": 2,
   "id": "77831686",
   "metadata": {},
   "outputs": [
    {
     "name": "stdout",
     "output_type": "stream",
     "text": [
      "✅ Turtle file created: healthdcat_metadata.ttl\n"
     ]
    }
   ],
   "source": [
    "# Load the Excel file\n",
    "excel_file = \"healthdcat_ontology_template.xlsx\"\n",
    "classes = pd.read_excel(excel_file, sheet_name=\"Classes\")\n",
    "properties = pd.read_excel(excel_file, sheet_name=\"Properties\")\n",
    "individuals = pd.read_excel(excel_file, sheet_name=\"Individuals\")\n",
    "\n",
    "# Namespaces\n",
    "EX = Namespace(\"http://example.org/\")\n",
    "HOSP = Namespace(\"http://hospital.org/ontology/\")\n",
    "DC = Namespace(\"http://purl.org/dc/terms/\")\n",
    "FOAF = Namespace(\"http://xmlns.com/foaf/0.1/\")\n",
    "g = Graph()\n",
    "\n",
    "# Bind prefixes\n",
    "g.bind(\"ex\", EX)\n",
    "g.bind(\"hosp\", HOSP)\n",
    "g.bind(\"dc\", DC)\n",
    "g.bind(\"foaf\", FOAF)\n",
    "g.bind(\"owl\", OWL)\n",
    "g.bind(\"rdfs\", RDFS)\n",
    "g.bind(\"xsd\", XSD)\n",
    "\n",
    "# 1. Add Classes\n",
    "for _, row in classes.iterrows():\n",
    "    class_uri = URIRef(row['ID'])\n",
    "    g.add((class_uri, RDF.type, OWL.Class))\n",
    "    g.add((class_uri, RDFS.label, Literal(row['Label'])))\n",
    "    if pd.notna(row['Comment']):\n",
    "        g.add((class_uri, RDFS.comment, Literal(row['Comment'])))\n",
    "\n",
    "# 2. Add Properties\n",
    "for _, row in properties.iterrows():\n",
    "    prop_uri = URIRef(row['ID'])\n",
    "    domain_uri = URIRef(row['Domain'])\n",
    "    range_val = row['Range']\n",
    "\n",
    "    # Set property type\n",
    "    prop_type = OWL.DatatypeProperty if row['Type'].strip().lower() == 'datatypeproperty' else OWL.ObjectProperty\n",
    "    g.add((prop_uri, RDF.type, prop_type))\n",
    "    g.add((prop_uri, RDFS.label, Literal(row['Label'])))\n",
    "    g.add((prop_uri, RDFS.domain, domain_uri))\n",
    "\n",
    "    # Handle range (URI or xsd:string)\n",
    "    if range_val.startswith(\"xsd:\"):\n",
    "        g.add((prop_uri, RDFS.range, getattr(XSD, range_val.split(\":\")[1])))\n",
    "    else:\n",
    "        g.add((prop_uri, RDFS.range, URIRef(range_val)))\n",
    "\n",
    "    if pd.notna(row['Comment']):\n",
    "        g.add((prop_uri, RDFS.comment, Literal(row['Comment'])))\n",
    "\n",
    "# 3. Add Individuals\n",
    "for _, row in individuals.iterrows():\n",
    "    subject = URIRef(row['ID'])\n",
    "    rdf_type = URIRef(row['Type'])\n",
    "    predicate = URIRef(row['Property'])\n",
    "    value = Literal(row['Value'])\n",
    "    g.add((subject, RDF.type, rdf_type))\n",
    "    g.add((subject, predicate, value))\n",
    "\n",
    "# Save as Turtle\n",
    "g.serialize(destination=\"healthdcat_metadata.ttl\", format=\"turtle\")\n",
    "print(\"✅ Turtle file created: healthdcat_metadata.ttl\")"
   ]
  },
  {
   "cell_type": "markdown",
   "id": "ff4ccf39",
   "metadata": {},
   "source": [
    "### A simple FAIR evalation "
   ]
  },
  {
   "cell_type": "markdown",
   "id": "674f4094",
   "metadata": {},
   "source": [
    "A very simple FAIR evaluation to do in here, you need to use this link: https://www.f-uji.net/?action=test to do a deep down FAIR evaluation. In order to do that you need to have a URL or DOI. Can do it by github or Zenodo"
   ]
  },
  {
   "cell_type": "code",
   "execution_count": 5,
   "id": "63f4277c",
   "metadata": {},
   "outputs": [
    {
     "ename": "NameError",
     "evalue": "name 'DCTERMS' is not defined",
     "output_type": "error",
     "traceback": [
      "\u001b[1;31m---------------------------------------------------------------------------\u001b[0m",
      "\u001b[1;31mNameError\u001b[0m                                 Traceback (most recent call last)",
      "Cell \u001b[1;32mIn[5], line 7\u001b[0m\n\u001b[0;32m      3\u001b[0m g\u001b[38;5;241m.\u001b[39mparse(\u001b[38;5;124m\"\u001b[39m\u001b[38;5;124mhealthdcat_metadata.ttl\u001b[39m\u001b[38;5;124m\"\u001b[39m, \u001b[38;5;28mformat\u001b[39m\u001b[38;5;241m=\u001b[39m\u001b[38;5;124m\"\u001b[39m\u001b[38;5;124mturtle\u001b[39m\u001b[38;5;124m\"\u001b[39m)\n\u001b[0;32m      5\u001b[0m \u001b[38;5;66;03m# Define basic FAIR checks\u001b[39;00m\n\u001b[0;32m      6\u001b[0m checks \u001b[38;5;241m=\u001b[39m {\n\u001b[1;32m----> 7\u001b[0m     \u001b[38;5;124m\"\u001b[39m\u001b[38;5;124mtitle\u001b[39m\u001b[38;5;124m\"\u001b[39m: (\u001b[38;5;28;01mNone\u001b[39;00m, DCTERMS\u001b[38;5;241m.\u001b[39mtitle),\n\u001b[0;32m      8\u001b[0m     \u001b[38;5;124m\"\u001b[39m\u001b[38;5;124mdescription\u001b[39m\u001b[38;5;124m\"\u001b[39m: (\u001b[38;5;28;01mNone\u001b[39;00m, DCTERMS\u001b[38;5;241m.\u001b[39mdescription),\n\u001b[0;32m      9\u001b[0m     \u001b[38;5;124m\"\u001b[39m\u001b[38;5;124mpublisher\u001b[39m\u001b[38;5;124m\"\u001b[39m: (\u001b[38;5;28;01mNone\u001b[39;00m, DCTERMS\u001b[38;5;241m.\u001b[39mpublisher),\n\u001b[0;32m     10\u001b[0m     \u001b[38;5;124m\"\u001b[39m\u001b[38;5;124midentifier\u001b[39m\u001b[38;5;124m\"\u001b[39m: (\u001b[38;5;28;01mNone\u001b[39;00m, DCTERMS\u001b[38;5;241m.\u001b[39midentifier),\n\u001b[0;32m     11\u001b[0m     \u001b[38;5;124m\"\u001b[39m\u001b[38;5;124mlicense\u001b[39m\u001b[38;5;124m\"\u001b[39m: (\u001b[38;5;28;01mNone\u001b[39;00m, DCTERMS\u001b[38;5;241m.\u001b[39mlicense),\n\u001b[0;32m     12\u001b[0m     \u001b[38;5;124m\"\u001b[39m\u001b[38;5;124maccess_rights\u001b[39m\u001b[38;5;124m\"\u001b[39m: (\u001b[38;5;28;01mNone\u001b[39;00m, DCTERMS\u001b[38;5;241m.\u001b[39maccessRights),\n\u001b[0;32m     13\u001b[0m     \u001b[38;5;124m\"\u001b[39m\u001b[38;5;124mprovenance\u001b[39m\u001b[38;5;124m\"\u001b[39m: (\u001b[38;5;28;01mNone\u001b[39;00m, DCTERMS\u001b[38;5;241m.\u001b[39mprovenance),\n\u001b[0;32m     14\u001b[0m     \u001b[38;5;124m\"\u001b[39m\u001b[38;5;124mformat\u001b[39m\u001b[38;5;124m\"\u001b[39m: (\u001b[38;5;28;01mNone\u001b[39;00m, DCTERMS\u001b[38;5;241m.\u001b[39mformat),\n\u001b[0;32m     15\u001b[0m     \u001b[38;5;124m\"\u001b[39m\u001b[38;5;124mlanguage\u001b[39m\u001b[38;5;124m\"\u001b[39m: (\u001b[38;5;28;01mNone\u001b[39;00m, DCTERMS\u001b[38;5;241m.\u001b[39mlanguage),\n\u001b[0;32m     16\u001b[0m }\n\u001b[0;32m     18\u001b[0m \u001b[38;5;66;03m# Evaluate each FAIRness aspect\u001b[39;00m\n\u001b[0;32m     19\u001b[0m \u001b[38;5;28mprint\u001b[39m(\u001b[38;5;124m\"\u001b[39m\u001b[38;5;124m🔍 FAIRness Evaluation Results:\u001b[39m\u001b[38;5;130;01m\\n\u001b[39;00m\u001b[38;5;124m\"\u001b[39m)\n",
      "\u001b[1;31mNameError\u001b[0m: name 'DCTERMS' is not defined"
     ]
    }
   ],
   "source": [
    "# Load the RDF Turtle file\n",
    "g = Graph()\n",
    "g.parse(\"healthdcat_metadata.ttl\", format=\"turtle\")\n",
    "\n",
    "# Define basic FAIR checks\n",
    "checks = {\n",
    "    \"title\": (None, DCTERMS.title),\n",
    "    \"description\": (None, DCTERMS.description),\n",
    "    \"publisher\": (None, DCTERMS.publisher),\n",
    "    \"identifier\": (None, DCTERMS.identifier),\n",
    "    \"license\": (None, DCTERMS.license),\n",
    "    \"access_rights\": (None, DCTERMS.accessRights),\n",
    "    \"provenance\": (None, DCTERMS.provenance),\n",
    "    \"format\": (None, DCTERMS.format),\n",
    "    \"language\": (None, DCTERMS.language),\n",
    "}\n",
    "\n",

