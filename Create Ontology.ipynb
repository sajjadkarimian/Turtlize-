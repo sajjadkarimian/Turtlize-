{
 "cells": [
  {
   "cell_type": "code",
   "execution_count": 5,
   "id": "a98f9724",
   "metadata": {},
   "outputs": [
    {
     "data": {
      "text/plain": [
       "<Graph identifier=N21d8b076a33244f38d9beaa527394b11 (<class 'rdflib.graph.Graph'>)>"
      ]
     },
     "execution_count": 5,
     "metadata": {},
     "output_type": "execute_result"
    }
   ],
   "source": [
    "from rdflib import Graph, Namespace, RDF, RDFS, OWL, URIRef, Literal\n",
    "from rdflib.namespace import RDF, OWL\n",
    "\n",
    "\n",
    "# Load the existing Turtle file\n",
    "g = Graph()\n",
    "g.parse(\"output.ttl\", format=\"turtle\")\n",
    "\n",
    "# Define namespaces\n",
    "EX = Namespace(\"http://example.org/\")\n",
    "g.bind(\"ex\", EX)\n",
    "\n",
    "# Define a new class\n",
    "Person = EX.Person\n",
    "g.add((Person, RDF.type, OWL.Class))\n",
    "g.add((Person, RDFS.label, Literal(\"Person\")))\n",
    "\n",
    "# Define a new property\n",
    "hasName = EX.hasName\n",
    "g.add((hasName, RDF.type, OWL.DatatypeProperty))\n",
    "g.add((hasName, RDFS.domain, Person))\n",
    "g.add((hasName, RDFS.range, RDFS.Literal))\n",
    "\n",
    "# Save the updated ontology\n",
    "g.serialize(destination=\"updated_metadata.ttl\", format=\"turtle\")"
   ]
  },
  {
   "cell_type": "code",
   "execution_count": 6,
   "id": "8f2190b0",
   "metadata": {},
   "outputs": [
    {
     "name": "stdout",
     "output_type": "stream",
     "text": [
      "http://example.org/resource/CPE_Dataset -- http://purl.org/dc/terms/identifier --> Not applicable\n",
      "http://example.org/resource/CPE_Dataset -- http://purl.org/dc/terms/title --> Carbapenemase-Producing Enterobacterales\n",
      "http://example.org/resource/CPE_Dataset -- http://hospital.org/ontology/healthDomain --> Infection Prevention and Control\n",
      "http://example.org/resource/CPE_Dataset -- http://purl.org/dc/terms/relation --> Not applicable\n",
      "http://example.org/resource/CPE_Dataset -- http://purl.org/dc/terms/temporal --> Last 5 years \n",
      "http://example.org/resource/CPE_Dataset -- http://www.w3.org/1999/02/22-rdf-syntax-ns#type --> http://hospital.org/ontology/Dataset\n",
      "http://example.org/resource/CPE_Dataset -- http://purl.org/dc/terms/format --> CSV\n",
      "http://example.org/Person -- http://www.w3.org/1999/02/22-rdf-syntax-ns#type --> http://www.w3.org/2002/07/owl#Class\n",
      "http://example.org/resource/CPE_Dataset -- http://purl.org/dc/terms/accessRights --> Restricted\n",
      "http://example.org/hasName -- http://www.w3.org/2000/01/rdf-schema#range --> http://www.w3.org/2000/01/rdf-schema#Literal\n",
      "http://example.org/resource/CPE_Dataset -- http://purl.org/dc/terms/spatial --> Dublin, Ireland\n",
      "http://example.org/Person -- http://www.w3.org/2000/01/rdf-schema#label --> Person\n",
      "http://example.org/resource/CPE_Dataset -- http://hospital.org/ontology/dataType --> Number of CPE positive data\n",
      "http://example.org/resource/CPE_Dataset -- http://purl.org/dc/terms/publisher --> Sajjad Karimian\n",
      "http://example.org/resource/CPE_Dataset -- http://purl.org/dc/terms/license --> Hospital-specific\n",
      "http://example.org/resource/CPE_Dataset -- http://purl.org/dc/terms/description --> Number of CPE positive and ICD-10 code\n",
      "http://example.org/resource/CPE_Dataset -- http://hospital.org/ontology/dataQualityNote --> All data from microbiologist were checked by quality manager\n",
      "http://example.org/hasName -- http://www.w3.org/2000/01/rdf-schema#domain --> http://example.org/Person\n",
      "http://example.org/resource/CPE_Dataset -- http://xmlns.com/foaf/0.1/maker --> Sajjad Karimian\n",
      "http://example.org/resource/CPE_Dataset -- http://purl.org/dc/terms/provenance --> Microbiologist, HIPE ICD-10 Coders\n",
      "http://example.org/hasName -- http://www.w3.org/1999/02/22-rdf-syntax-ns#type --> http://www.w3.org/2002/07/owl#DatatypeProperty\n",
      "http://example.org/resource/CPE_Dataset -- http://purl.org/dc/terms/hasVersion --> 1\n",
      "http://example.org/resource/CPE_Dataset -- http://purl.org/dc/terms/language --> en\n"
     ]
    }
   ],
   "source": [
    "for subj, pred, obj in g:\n",
    "    print(f\"{subj} -- {pred} --> {obj}\")\n",
    "    "
   ]
  },
  {
   "cell_type": "code",
   "execution_count": 7,
   "id": "d9aea898",
   "metadata": {},
   "outputs": [
    {
     "name": "stdout",
     "output_type": "stream",
     "text": [
      "\n",
      "🧱 Classes:\n",
      "http://example.org/Person\n",
      "\n",
      "🔗 Object Properties:\n",
      "\n",
      "🔢 Datatype Properties:\n",
      "http://example.org/hasName\n"
     ]
    }
   ],
   "source": [
    "\n",
    "# List all classes\n",
    "print(\"\\n🧱 Classes:\")\n",
    "for s in g.subjects(RDF.type, OWL.Class):\n",
    "    print(s)\n",
    "\n",
    "# List all object properties\n",
    "print(\"\\n🔗 Object Properties:\")\n",
    "for s in g.subjects(RDF.type, OWL.ObjectProperty):\n",
    "    print(s)\n",
    "\n",
    "# List all datatype properties\n",
    "print(\"\\n🔢 Datatype Properties:\")\n",
    "for s in g.subjects(RDF.type, OWL.DatatypeProperty):\n",
    "    print(s)"
   ]
  },
  {
   "cell_type": "code",
   "execution_count": 8,
   "id": "dbd95306",
   "metadata": {},
   "outputs": [
    {
     "name": "stdout",
     "output_type": "stream",
     "text": [
      "Ontology saved to updated_metadata.ttl\n"
     ]
    }
   ],
   "source": [
    "g.serialize(destination=\"updated_metadata.ttl\", format=\"turtle\")\n",
    "print(\"Ontology saved to updated_metadata.ttl\")"
   ]
  }
 ],
 "metadata": {
  "kernelspec": {
   "display_name": "Python 3 (ipykernel)",
   "language": "python",
   "name": "python3"
  },
  "language_info": {
   "codemirror_mode": {
    "name": "ipython",
    "version": 3
   },
   "file_extension": ".py",
   "mimetype": "text/x-python",
   "name": "python",
   "nbconvert_exporter": "python",
   "pygments_lexer": "ipython3",
   "version": "3.11.5"
  }
 },
 "nbformat": 4,
 "nbformat_minor": 5
}
